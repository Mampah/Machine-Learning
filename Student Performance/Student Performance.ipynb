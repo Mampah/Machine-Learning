{
 "cells": [
  {
   "cell_type": "markdown",
   "metadata": {},
   "source": [
    "Michael Kojo Ampah\n",
    "1019090042\n",
    "ML "
   ]
  },
  {
   "cell_type": "code",
   "execution_count": 199,
   "metadata": {},
   "outputs": [],
   "source": [
    "import matplotlib.pyplot as plt\n",
    "import numpy as np\n",
    "import pandas as pd \n",
    "import seaborn as sns\n",
    "import scipy.stats as stats"
   ]
  },
  {
   "cell_type": "code",
   "execution_count": 176,
   "metadata": {},
   "outputs": [],
   "source": [
    "df = pd.read_csv(r'C:\\Users\\M_Ampah\\Downloads\\Performance.csv')"
   ]
  },
  {
   "cell_type": "code",
   "execution_count": 201,
   "metadata": {},
   "outputs": [
    {
     "name": "stdout",
     "output_type": "stream",
     "text": [
      "Male = 19\n",
      "Female = 21\n"
     ]
    }
   ],
   "source": [
    "#No1\n",
    "\n",
    "print(\"Male =\",df['gender'].value_counts()['M'])\n",
    "print(\"Female =\",df['gender'].value_counts()['F'])"
   ]
  },
  {
   "cell_type": "code",
   "execution_count": 177,
   "metadata": {},
   "outputs": [
    {
     "name": "stdout",
     "output_type": "stream",
     "text": [
      "Average is : <function average at 0x000001B4F360C8B8>\n"
     ]
    }
   ],
   "source": [
    "#No2\n",
    "np.average(df.age)\n",
    "print(\"Average is :\",np.average)"
   ]
  },
  {
   "cell_type": "markdown",
   "metadata": {},
   "source": [
    "#NO3\n",
    "\n",
    "There are no missing values"
   ]
  },
  {
   "cell_type": "code",
   "execution_count": 50,
   "metadata": {},
   "outputs": [
    {
     "name": "stdout",
     "output_type": "stream",
     "text": [
      "range is : 30\n"
     ]
    }
   ],
   "source": [
    "#No4\n",
    "range = np.max(df.english_score) - np.min(df.english_score)\n",
    "print(\"range is :\", range)"
   ]
  },
  {
   "cell_type": "code",
   "execution_count": 53,
   "metadata": {},
   "outputs": [
    {
     "data": {
      "text/html": [
       "<div>\n",
       "<style scoped>\n",
       "    .dataframe tbody tr th:only-of-type {\n",
       "        vertical-align: middle;\n",
       "    }\n",
       "\n",
       "    .dataframe tbody tr th {\n",
       "        vertical-align: top;\n",
       "    }\n",
       "\n",
       "    .dataframe thead th {\n",
       "        text-align: right;\n",
       "    }\n",
       "</style>\n",
       "<table border=\"1\" class=\"dataframe\">\n",
       "  <thead>\n",
       "    <tr style=\"text-align: right;\">\n",
       "      <th></th>\n",
       "      <th>english_score</th>\n",
       "      <th>science_score</th>\n",
       "    </tr>\n",
       "  </thead>\n",
       "  <tbody>\n",
       "    <tr>\n",
       "      <th>english_score</th>\n",
       "      <td>1.000000</td>\n",
       "      <td>0.629384</td>\n",
       "    </tr>\n",
       "    <tr>\n",
       "      <th>science_score</th>\n",
       "      <td>0.629384</td>\n",
       "      <td>1.000000</td>\n",
       "    </tr>\n",
       "  </tbody>\n",
       "</table>\n",
       "</div>"
      ],
      "text/plain": [
       "               english_score  science_score\n",
       "english_score       1.000000       0.629384\n",
       "science_score       0.629384       1.000000"
      ]
     },
     "execution_count": 53,
     "metadata": {},
     "output_type": "execute_result"
    }
   ],
   "source": [
    "#No5\n",
    "columns = [english_score\n",
    ", 'science_score']\n",
    "data[columns].corr()"
   ]
  },
  {
   "cell_type": "code",
   "execution_count": 58,
   "metadata": {},
   "outputs": [
    {
     "data": {
      "text/plain": [
       "Text(0.5, 1.0, 'Relationship between math and social studies scores')"
      ]
     },
     "execution_count": 58,
     "metadata": {},
     "output_type": "execute_result"
    },
    {
     "data": {
      "image/png": "[encoded data removed]",
      "text/plain": [
       "<Figure size 432x288 with 1 Axes>"
      ]
     },
     "metadata": {
      "needs_background": "light"
     },
     "output_type": "display_data"
    }
   ],
   "source": [
    "#No6\n",
    "\n",
    "data.plot.scatter(x='math_score',y='social_studies_score')\n",
    "plt.title('Relationship between math and social studies scores')\n",
    "\n",
    "\n",
    "#Observation : Mathe scores are positively correlated to social studies scores"
   ]
  },
  {
   "cell_type": "code",
   "execution_count": 98,
   "metadata": {},
   "outputs": [
    {
     "name": "stdout",
     "output_type": "stream",
     "text": [
      "    student_id gender  age  grade_level  english_score  math_score  \\\n",
      "31          32      F   15           10             95          97   \n",
      "\n",
      "    science_score  social_studies_score  Overall_score  Overall  \n",
      "31             96                    94            382      382  \n"
     ]
    }
   ],
   "source": [
    "#No7\n",
    "\n",
    "df['Overall_score'] = df['english_score'] + df['math_score'] + df['science_score'] + df['social_studies_score']\n",
    "maxOverall = np.max(df.Overall_score)\n",
    "HighestScoringStudent = df.loc[df['Overall_score'] == maxOverall]\n",
    "print(HighestScoringStudent)"
   ]
  },
  {
   "cell_type": "code",
   "execution_count": 103,
   "metadata": {},
   "outputs": [
    {
     "data": {
      "text/html": [
       "<div>\n",
       "<style scoped>\n",
       "    .dataframe tbody tr th:only-of-type {\n",
       "        vertical-align: middle;\n",
       "    }\n",
       "\n",
       "    .dataframe tbody tr th {\n",
       "        vertical-align: top;\n",
       "    }\n",
       "\n",
       "    .dataframe thead th {\n",
       "        text-align: right;\n",
       "    }\n",
       "</style>\n",
       "<table border=\"1\" class=\"dataframe\">\n",
       "  <thead>\n",
       "    <tr style=\"text-align: right;\">\n",
       "      <th></th>\n",
       "      <th>english_score</th>\n",
       "      <th>math_score</th>\n",
       "      <th>science_score</th>\n",
       "      <th>social_studies_score</th>\n",
       "    </tr>\n",
       "  </thead>\n",
       "  <tbody>\n",
       "    <tr>\n",
       "      <th>count</th>\n",
       "      <td>40.000000</td>\n",
       "      <td>40.000000</td>\n",
       "      <td>40.000000</td>\n",
       "      <td>40.000000</td>\n",
       "    </tr>\n",
       "    <tr>\n",
       "      <th>mean</th>\n",
       "      <td>82.675000</td>\n",
       "      <td>85.175000</td>\n",
       "      <td>86.650000</td>\n",
       "      <td>83.000000</td>\n",
       "    </tr>\n",
       "    <tr>\n",
       "      <th>std</th>\n",
       "      <td>8.150468</td>\n",
       "      <td>7.242636</td>\n",
       "      <td>6.435279</td>\n",
       "      <td>6.575011</td>\n",
       "    </tr>\n",
       "    <tr>\n",
       "      <th>min</th>\n",
       "      <td>65.000000</td>\n",
       "      <td>68.000000</td>\n",
       "      <td>70.000000</td>\n",
       "      <td>70.000000</td>\n",
       "    </tr>\n",
       "    <tr>\n",
       "      <th>25%</th>\n",
       "      <td>78.000000</td>\n",
       "      <td>80.750000</td>\n",
       "      <td>83.500000</td>\n",
       "      <td>77.750000</td>\n",
       "    </tr>\n",
       "    <tr>\n",
       "      <th>50%</th>\n",
       "      <td>84.000000</td>\n",
       "      <td>85.500000</td>\n",
       "      <td>88.000000</td>\n",
       "      <td>84.500000</td>\n",
       "    </tr>\n",
       "    <tr>\n",
       "      <th>75%</th>\n",
       "      <td>89.000000</td>\n",
       "      <td>91.000000</td>\n",
       "      <td>92.000000</td>\n",
       "      <td>88.000000</td>\n",
       "    </tr>\n",
       "    <tr>\n",
       "      <th>max</th>\n",
       "      <td>95.000000</td>\n",
       "      <td>97.000000</td>\n",
       "      <td>96.000000</td>\n",
       "      <td>94.000000</td>\n",
       "    </tr>\n",
       "  </tbody>\n",
       "</table>\n",
       "</div>"
      ],
      "text/plain": [
       "       english_score  math_score  science_score  social_studies_score\n",
       "count      40.000000   40.000000      40.000000             40.000000\n",
       "mean       82.675000   85.175000      86.650000             83.000000\n",
       "std         8.150468    7.242636       6.435279              6.575011\n",
       "min        65.000000   68.000000      70.000000             70.000000\n",
       "25%        78.000000   80.750000      83.500000             77.750000\n",
       "50%        84.000000   85.500000      88.000000             84.500000\n",
       "75%        89.000000   91.000000      92.000000             88.000000\n",
       "max        95.000000   97.000000      96.000000             94.000000"
      ]
     },
     "execution_count": 103,
     "metadata": {},
     "output_type": "execute_result"
    }
   ],
   "source": [
    "#No8\n",
    "df.describe()[['english_score', 'math_score', 'science_score', 'social_studies_score' ]]"
   ]
  },
  {
   "cell_type": "code",
   "execution_count": 104,
   "metadata": {},
   "outputs": [
    {
     "name": "stdout",
     "output_type": "stream",
     "text": [
      "8.150467974609077\n"
     ]
    }
   ],
   "source": [
    "#No9\n",
    "englishScoreStd = df['english_score'].std()\n",
    "print(englishScoreStd)"
   ]
  },
  {
   "cell_type": "code",
   "execution_count": 113,
   "metadata": {},
   "outputs": [
    {
     "data": {
      "text/plain": [
       "Text(0.5, 1.0, 'Distribution of math scores ')"
      ]
     },
     "execution_count": 113,
     "metadata": {},
     "output_type": "execute_result"
    },
    {
     "data": {
      "image/png": "[encoded data removed]",
      "text/plain": [
       "<Figure size 432x288 with 1 Axes>"
      ]
     },
     "metadata": {
      "needs_background": "light"
     },
     "output_type": "display_data"
    }
   ],
   "source": [
    "#No10\n",
    "df.hist('math_score',  rwidth= 0.5)\n",
    "plt.title('Distribution of math scores ')\n"
   ]
  },
  {
   "cell_type": "code",
   "execution_count": 117,
   "metadata": {},
   "outputs": [
    {
     "data": {
      "text/plain": [
       "88.0"
      ]
     },
     "execution_count": 117,
     "metadata": {},
     "output_type": "execute_result"
    }
   ],
   "source": [
    "#No11\n",
    "np.median(df.science_score)\n"
   ]
  },
  {
   "cell_type": "code",
   "execution_count": 127,
   "metadata": {},
   "outputs": [
    {
     "name": "stdout",
     "output_type": "stream",
     "text": [
      "11.0\n"
     ]
    }
   ],
   "source": [
    "#No12\n",
    "\n",
    "q1 ,q3 = np.percentile(df['english_score'], [25, 75])\n",
    "iqr = q3 -q1\n",
    "print(iqr)"
   ]
  },
  {
   "cell_type": "code",
   "execution_count": 128,
   "metadata": {},
   "outputs": [
    {
     "data": {
      "text/html": [
       "<div>\n",
       "<style scoped>\n",
       "    .dataframe tbody tr th:only-of-type {\n",
       "        vertical-align: middle;\n",
       "    }\n",
       "\n",
       "    .dataframe tbody tr th {\n",
       "        vertical-align: top;\n",
       "    }\n",
       "\n",
       "    .dataframe thead th {\n",
       "        text-align: right;\n",
       "    }\n",
       "</style>\n",
       "<table border=\"1\" class=\"dataframe\">\n",
       "  <thead>\n",
       "    <tr style=\"text-align: right;\">\n",
       "      <th></th>\n",
       "      <th>english_score</th>\n",
       "      <th>math_score</th>\n",
       "      <th>science_score</th>\n",
       "      <th>social_studies_score</th>\n",
       "    </tr>\n",
       "  </thead>\n",
       "  <tbody>\n",
       "    <tr>\n",
       "      <th>count</th>\n",
       "      <td>40.000000</td>\n",
       "      <td>40.000000</td>\n",
       "      <td>40.000000</td>\n",
       "      <td>40.000000</td>\n",
       "    </tr>\n",
       "    <tr>\n",
       "      <th>mean</th>\n",
       "      <td>82.675000</td>\n",
       "      <td>85.175000</td>\n",
       "      <td>86.650000</td>\n",
       "      <td>83.000000</td>\n",
       "    </tr>\n",
       "    <tr>\n",
       "      <th>std</th>\n",
       "      <td>8.150468</td>\n",
       "      <td>7.242636</td>\n",
       "      <td>6.435279</td>\n",
       "      <td>6.575011</td>\n",
       "    </tr>\n",
       "    <tr>\n",
       "      <th>min</th>\n",
       "      <td>65.000000</td>\n",
       "      <td>68.000000</td>\n",
       "      <td>70.000000</td>\n",
       "      <td>70.000000</td>\n",
       "    </tr>\n",
       "    <tr>\n",
       "      <th>25%</th>\n",
       "      <td>78.000000</td>\n",
       "      <td>80.750000</td>\n",
       "      <td>83.500000</td>\n",
       "      <td>77.750000</td>\n",
       "    </tr>\n",
       "    <tr>\n",
       "      <th>50%</th>\n",
       "      <td>84.000000</td>\n",
       "      <td>85.500000</td>\n",
       "      <td>88.000000</td>\n",
       "      <td>84.500000</td>\n",
       "    </tr>\n",
       "    <tr>\n",
       "      <th>75%</th>\n",
       "      <td>89.000000</td>\n",
       "      <td>91.000000</td>\n",
       "      <td>92.000000</td>\n",
       "      <td>88.000000</td>\n",
       "    </tr>\n",
       "    <tr>\n",
       "      <th>max</th>\n",
       "      <td>95.000000</td>\n",
       "      <td>97.000000</td>\n",
       "      <td>96.000000</td>\n",
       "      <td>94.000000</td>\n",
       "    </tr>\n",
       "  </tbody>\n",
       "</table>\n",
       "</div>"
      ],
      "text/plain": [
       "       english_score  math_score  science_score  social_studies_score\n",
       "count      40.000000   40.000000      40.000000             40.000000\n",
       "mean       82.675000   85.175000      86.650000             83.000000\n",
       "std         8.150468    7.242636       6.435279              6.575011\n",
       "min        65.000000   68.000000      70.000000             70.000000\n",
       "25%        78.000000   80.750000      83.500000             77.750000\n",
       "50%        84.000000   85.500000      88.000000             84.500000\n",
       "75%        89.000000   91.000000      92.000000             88.000000\n",
       "max        95.000000   97.000000      96.000000             94.000000"
      ]
     },
     "execution_count": 128,
     "metadata": {},
     "output_type": "execute_result"
    }
   ],
   "source": [
    "#No13\n",
    "df.describe()[['english_score', 'math_score', 'science_score', 'social_studies_score' ]]\n",
    "\n",
    "# Math has the highest overall score (97)\n"
   ]
  },
  {
   "cell_type": "code",
   "execution_count": 181,
   "metadata": {},
   "outputs": [
    {
     "data": {
      "text/plain": [
       "Text(0.5, 0, 'Females vs Males')"
      ]
     },
     "execution_count": 181,
     "metadata": {},
     "output_type": "execute_result"
    },
    {
     "data": {
      "image/png": "[encoded data removed]",
      "text/plain": [
       "<Figure size 432x288 with 1 Axes>"
      ]
     },
     "metadata": {
      "needs_background": "light"
     },
     "output_type": "display_data"
    }
   ],
   "source": [
    "#No14\n",
    "females = df[df['gender'] == 'F']\n",
    "males = df[df['gender'] == 'M']\n",
    "femaleMathScores = females.math_score\n",
    "maleMathScores = males.math_score\n",
    "plotData = [femaleMathScores, maleMathScores]\n",
    "fig = plt.figure()\n",
    "\n",
    "ax = fig.add_subplot(111)\n",
    "ax.boxplot(plotData)\n",
    "ax.set_xlabel('Females vs Males')\n",
    "\n"
   ]
  },
  {
   "cell_type": "code",
   "execution_count": 192,
   "metadata": {},
   "outputs": [
    {
     "name": "stdout",
     "output_type": "stream",
     "text": [
      "[11]\n"
     ]
    }
   ],
   "source": [
    "#No15\n",
    "grade, count = np.unique(df.grade_level, return_counts=True)\n",
    "mode_value = np.argwhere(count == np.max(count))\n",
    "print(grade[mode_value].flatten().tolist())"
   ]
  },
  {
   "cell_type": "code",
   "execution_count": 183,
   "metadata": {},
   "outputs": [],
   "source": [
    "#No16\n",
    "#there are no missing values"
   ]
  },
  {
   "cell_type": "code",
   "execution_count": 185,
   "metadata": {},
   "outputs": [
    {
     "data": {
      "text/html": [
       "<div>\n",
       "<style scoped>\n",
       "    .dataframe tbody tr th:only-of-type {\n",
       "        vertical-align: middle;\n",
       "    }\n",
       "\n",
       "    .dataframe tbody tr th {\n",
       "        vertical-align: top;\n",
       "    }\n",
       "\n",
       "    .dataframe thead th {\n",
       "        text-align: right;\n",
       "    }\n",
       "</style>\n",
       "<table border=\"1\" class=\"dataframe\">\n",
       "  <thead>\n",
       "    <tr style=\"text-align: right;\">\n",
       "      <th></th>\n",
       "      <th>student_id</th>\n",
       "      <th>age</th>\n",
       "      <th>grade_level</th>\n",
       "      <th>english_score</th>\n",
       "      <th>math_score</th>\n",
       "      <th>science_score</th>\n",
       "      <th>social_studies_score</th>\n",
       "    </tr>\n",
       "  </thead>\n",
       "  <tbody>\n",
       "    <tr>\n",
       "      <th>student_id</th>\n",
       "      <td>1.000000</td>\n",
       "      <td>0.032300</td>\n",
       "      <td>-0.045710</td>\n",
       "      <td>0.387646</td>\n",
       "      <td>0.250597</td>\n",
       "      <td>0.159167</td>\n",
       "      <td>0.191478</td>\n",
       "    </tr>\n",
       "    <tr>\n",
       "      <th>age</th>\n",
       "      <td>0.032300</td>\n",
       "      <td>1.000000</td>\n",
       "      <td>0.965963</td>\n",
       "      <td>0.284062</td>\n",
       "      <td>0.113057</td>\n",
       "      <td>0.314896</td>\n",
       "      <td>0.348830</td>\n",
       "    </tr>\n",
       "    <tr>\n",
       "      <th>grade_level</th>\n",
       "      <td>-0.045710</td>\n",
       "      <td>0.965963</td>\n",
       "      <td>1.000000</td>\n",
       "      <td>0.305335</td>\n",
       "      <td>0.129292</td>\n",
       "      <td>0.310005</td>\n",
       "      <td>0.406362</td>\n",
       "    </tr>\n",
       "    <tr>\n",
       "      <th>english_score</th>\n",
       "      <td>0.387646</td>\n",
       "      <td>0.284062</td>\n",
       "      <td>0.305335</td>\n",
       "      <td>1.000000</td>\n",
       "      <td>0.701187</td>\n",
       "      <td>0.629384</td>\n",
       "      <td>0.746895</td>\n",
       "    </tr>\n",
       "    <tr>\n",
       "      <th>math_score</th>\n",
       "      <td>0.250597</td>\n",
       "      <td>0.113057</td>\n",
       "      <td>0.129292</td>\n",
       "      <td>0.701187</td>\n",
       "      <td>1.000000</td>\n",
       "      <td>0.615301</td>\n",
       "      <td>0.673596</td>\n",
       "    </tr>\n",
       "    <tr>\n",
       "      <th>science_score</th>\n",
       "      <td>0.159167</td>\n",
       "      <td>0.314896</td>\n",
       "      <td>0.310005</td>\n",
       "      <td>0.629384</td>\n",
       "      <td>0.615301</td>\n",
       "      <td>1.000000</td>\n",
       "      <td>0.671446</td>\n",
       "    </tr>\n",
       "    <tr>\n",
       "      <th>social_studies_score</th>\n",
       "      <td>0.191478</td>\n",
       "      <td>0.348830</td>\n",
       "      <td>0.406362</td>\n",
       "      <td>0.746895</td>\n",
       "      <td>0.673596</td>\n",
       "      <td>0.671446</td>\n",
       "      <td>1.000000</td>\n",
       "    </tr>\n",
       "  </tbody>\n",
       "</table>\n",
       "</div>"
      ],
      "text/plain": [
       "                      student_id       age  grade_level  english_score  \\\n",
       "student_id              1.000000  0.032300    -0.045710       0.387646   \n",
       "age                     0.032300  1.000000     0.965963       0.284062   \n",
       "grade_level            -0.045710  0.965963     1.000000       0.305335   \n",
       "english_score           0.387646  0.284062     0.305335       1.000000   \n",
       "math_score              0.250597  0.113057     0.129292       0.701187   \n",
       "science_score           0.159167  0.314896     0.310005       0.629384   \n",
       "social_studies_score    0.191478  0.348830     0.406362       0.746895   \n",
       "\n",
       "                      math_score  science_score  social_studies_score  \n",
       "student_id              0.250597       0.159167              0.191478  \n",
       "age                     0.113057       0.314896              0.348830  \n",
       "grade_level             0.129292       0.310005              0.406362  \n",
       "english_score           0.701187       0.629384              0.746895  \n",
       "math_score              1.000000       0.615301              0.673596  \n",
       "science_score           0.615301       1.000000              0.671446  \n",
       "social_studies_score    0.673596       0.671446              1.000000  "
      ]
     },
     "execution_count": 185,
     "metadata": {},
     "output_type": "execute_result"
    }
   ],
   "source": [
    "#No17\n",
    "df.corr()"
   ]
  },
  {
   "cell_type": "code",
   "execution_count": 189,
   "metadata": {},
   "outputs": [
    {
     "data": {
      "text/plain": [
       "array([[<matplotlib.axes._subplots.AxesSubplot object at 0x000001B4FE2408C8>,\n",
       "        <matplotlib.axes._subplots.AxesSubplot object at 0x000001B4FE64E308>,\n",
       "        <matplotlib.axes._subplots.AxesSubplot object at 0x000001B4FE663548>,\n",
       "        <matplotlib.axes._subplots.AxesSubplot object at 0x000001B4FE679B08>,\n",
       "        <matplotlib.axes._subplots.AxesSubplot object at 0x000001B4FE6AF548>,\n",
       "        <matplotlib.axes._subplots.AxesSubplot object at 0x000001B4FE6E4F08>,\n",
       "        <matplotlib.axes._subplots.AxesSubplot object at 0x000001B4FE71E888>],\n",
       "       [<matplotlib.axes._subplots.AxesSubplot object at 0x000001B4FE75EF88>,\n",
       "        <matplotlib.axes._subplots.AxesSubplot object at 0x000001B4FE767088>,\n",
       "        <matplotlib.axes._subplots.AxesSubplot object at 0x000001B4FE79D248>,\n",
       "        <matplotlib.axes._subplots.AxesSubplot object at 0x000001B4FE803808>,\n",
       "        <matplotlib.axes._subplots.AxesSubplot object at 0x000001B4FE83B888>,\n",
       "        <matplotlib.axes._subplots.AxesSubplot object at 0x000001B4FE873988>,\n",
       "        <matplotlib.axes._subplots.AxesSubplot object at 0x000001B4FE8ADAC8>],\n",
       "       [<matplotlib.axes._subplots.AxesSubplot object at 0x000001B4FE8E5C08>,\n",
       "        <matplotlib.axes._subplots.AxesSubplot object at 0x000001B4FE91ED08>,\n",
       "        <matplotlib.axes._subplots.AxesSubplot object at 0x000001B4FE956D88>,\n",
       "        <matplotlib.axes._subplots.AxesSubplot object at 0x000001B4FE98FEC8>,\n",
       "        <matplotlib.axes._subplots.AxesSubplot object at 0x000001B4FE9C8FC8>,\n",
       "        <matplotlib.axes._subplots.AxesSubplot object at 0x000001B4FEA04108>,\n",
       "        <matplotlib.axes._subplots.AxesSubplot object at 0x000001B4FEA3F248>],\n",
       "       [<matplotlib.axes._subplots.AxesSubplot object at 0x000001B4FEA76348>,\n",
       "        <matplotlib.axes._subplots.AxesSubplot object at 0x000001B4FEAAF388>,\n",
       "        <matplotlib.axes._subplots.AxesSubplot object at 0x000001B4FEAE74C8>,\n",
       "        <matplotlib.axes._subplots.AxesSubplot object at 0x000001B4FEB215C8>,\n",
       "        <matplotlib.axes._subplots.AxesSubplot object at 0x000001B4FEB60E88>,\n",
       "        <matplotlib.axes._subplots.AxesSubplot object at 0x000001B4FEB92808>,\n",
       "        <matplotlib.axes._subplots.AxesSubplot object at 0x000001B4FEBCB888>],\n",
       "       [<matplotlib.axes._subplots.AxesSubplot object at 0x000001B4FEC04988>,\n",
       "        <matplotlib.axes._subplots.AxesSubplot object at 0x000001B4FEC3CAC8>,\n",
       "        <matplotlib.axes._subplots.AxesSubplot object at 0x000001B4FEC75BC8>,\n",
       "        <matplotlib.axes._subplots.AxesSubplot object at 0x000001B4FECADCC8>,\n",
       "        <matplotlib.axes._subplots.AxesSubplot object at 0x000001B4FECE6D88>,\n",
       "        <matplotlib.axes._subplots.AxesSubplot object at 0x000001B4FED1EEC8>,\n",
       "        <matplotlib.axes._subplots.AxesSubplot object at 0x000001B4FED56FC8>],\n",
       "       [<matplotlib.axes._subplots.AxesSubplot object at 0x000001B4FED95108>,\n",
       "        <matplotlib.axes._subplots.AxesSubplot object at 0x000001B4FEDCD248>,\n",
       "        <matplotlib.axes._subplots.AxesSubplot object at 0x000001B4FEE052C8>,\n",
       "        <matplotlib.axes._subplots.AxesSubplot object at 0x000001B4FEE3BBC8>,\n",
       "        <matplotlib.axes._subplots.AxesSubplot object at 0x000001B4FEE74D08>,\n",
       "        <matplotlib.axes._subplots.AxesSubplot object at 0x000001B4FEEABE08>,\n",
       "        <matplotlib.axes._subplots.AxesSubplot object at 0x000001B4FEEE5F08>],\n",
       "       [<matplotlib.axes._subplots.AxesSubplot object at 0x000001B4FEF21088>,\n",
       "        <matplotlib.axes._subplots.AxesSubplot object at 0x000001B4FEF5A108>,\n",
       "        <matplotlib.axes._subplots.AxesSubplot object at 0x000001B4FEF93208>,\n",
       "        <matplotlib.axes._subplots.AxesSubplot object at 0x000001B4FEFCB348>,\n",
       "        <matplotlib.axes._subplots.AxesSubplot object at 0x000001B4FF005448>,\n",
       "        <matplotlib.axes._subplots.AxesSubplot object at 0x000001B4FF03D548>,\n",
       "        <matplotlib.axes._subplots.AxesSubplot object at 0x000001B4FF075648>]],\n",
       "      dtype=object)"
      ]
     },
     "execution_count": 189,
     "metadata": {},
     "output_type": "execute_result"
    },
    {
     "data": {
      "image/png": "[encoded data removed]",
      "text/plain": [
       "<Figure size 432x288 with 49 Axes>"
      ]
     },
     "metadata": {
      "needs_background": "light"
     },
     "output_type": "display_data"
    }
   ],
   "source": [
    "#No18\n",
    "pd.plotting.scatter_matrix(df, alpha=0.1)"
   ]
  },
  {
   "cell_type": "code",
   "execution_count": 193,
   "metadata": {},
   "outputs": [
    {
     "name": "stdout",
     "output_type": "stream",
     "text": [
      "range is : 3\n"
     ]
    }
   ],
   "source": [
    "#No19\n",
    "ageRange = np.max(df.age) - np.min(df.age)\n",
    "print(\"range is :\", ageRange)"
   ]
  },
  {
   "cell_type": "code",
   "execution_count": 194,
   "metadata": {},
   "outputs": [
    {
     "name": "stdout",
     "output_type": "stream",
     "text": [
      "    student_id gender  age  grade_level  english_score  math_score  \\\n",
      "12          13      M   14            9             65          68   \n",
      "\n",
      "    science_score  social_studies_score  Overall_score  \n",
      "12             75                    70            278  \n"
     ]
    }
   ],
   "source": [
    "#No20\n",
    "df['Overall_score'] = df['english_score'] + df['math_score'] + df['science_score'] + df['social_studies_score']\n",
    "maxOverall = np.min(df.Overall_score)\n",
    "HighestScoringStudent = df.loc[df['Overall_score'] == maxOverall]\n",
    "print(HighestScoringStudent)"
   ]
  },
  {
   "cell_type": "code",
   "execution_count": 196,
   "metadata": {},
   "outputs": [
    {
     "name": "stdout",
     "output_type": "stream",
     "text": [
      "Mean math score:  85.175\n",
      "Median math score:  85.5\n",
      "Difference:  -0.32500000000000284\n"
     ]
    }
   ],
   "source": [
    "#N021\n",
    "meanMathScore = np.mean(df.math_score)\n",
    "medianMathScore = np.median(df.math_score)\n",
    "print(\"Mean math score: \", meanMathScore)\n",
    "print(\"Median math score: \", medianMathScore)\n",
    "print(\"Difference: \", meanMathScore - medianMathScore)\n",
    "# data is not skewed as the difference is negligle"
   ]
  },
  {
   "cell_type": "code",
   "execution_count": 200,
   "metadata": {},
   "outputs": [
    {
     "name": "stdout",
     "output_type": "stream",
     "text": [
      "    student_id gender  age  grade_level  english_score  math_score  \\\n",
      "14          15      F   15           10             92          90   \n",
      "\n",
      "    science_score  social_studies_score  Overall_score  social_studies_zscore  \n",
      "14             70                    82            334              -0.154029  \n"
     ]
    }
   ],
   "source": [
    "#No22\n",
    "df['social_studies_zscore'] = stats.zscore(df['social_studies_score'])\n",
    "student15 = df.loc[df['student_id'] == 15]\n",
    "print(student15)"
   ]
  },
  {
   "cell_type": "code",
   "execution_count": null,
   "metadata": {},
   "outputs": [],
   "source": []
  }
 ],
 "metadata": {
  "kernelspec": {
   "display_name": "Python 3 (ipykernel)",
   "language": "python",
   "name": "python3"
  },
  "language_info": {
   "codemirror_mode": {
    "name": "ipython",
    "version": 3
   },
   "file_extension": ".py",
   "mimetype": "text/x-python",
   "name": "python",
   "nbconvert_exporter": "python",
   "pygments_lexer": "ipython3",
   "version": "3.10.9"
  }
 },
 "nbformat": 4,
 "nbformat_minor": 4
}
