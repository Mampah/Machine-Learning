{
 "cells": [
  {
   "cell_type": "code",
   "execution_count": 44,
   "metadata": {},
   "outputs": [],
   "source": [
    "import matplotlib.pyplot as plt\n",
    "import numpy as np\n",
    "import pandas as pd "
   ]
  },
  {
   "cell_type": "code",
   "execution_count": 13,
   "metadata": {},
   "outputs": [],
   "source": [
    "data = pd.read_csv('healdata2.csv')"
   ]
  },
  {
   "cell_type": "code",
   "execution_count": 22,
   "metadata": {},
   "outputs": [
    {
     "name": "stdout",
     "output_type": "stream",
     "text": [
      "    age  gender   bmi smoker      region  exercise    alcohol cholesterol  \\\n",
      "0    49    Male  28.7    Yes     Regular      High  Very High      135/85   \n",
      "1    67  Female  26.8     No  Occasional  Moderate       High      140/90   \n",
      "2    41    Male  24.9     No  Occasional  Moderate     Normal      125/80   \n",
      "3    31  Female  29.2    Yes     Regular       Low       High      130/85   \n",
      "4    42    Male  23.5     No       Never  Moderate     Normal      120/80   \n",
      "5    29  Female  27.9    Yes  Occasional      High  Very High      130/90   \n",
      "6    54    Male  31.2    Yes     Regular       Low  Very High      145/95   \n",
      "7    38  Female  25.8     No  Occasional       Low       High      125/80   \n",
      "8    44    Male  28.3    Yes     Regular  Moderate       High      135/85   \n",
      "9    44    Male  24.5     No       Never       Low     Normal      120/70   \n",
      "10   29  Female  26.1    Yes  Occasional  Moderate       High      130/80   \n",
      "11   45    Male  27.3     No       Never       Low       High      130/80   \n",
      "12   52    Male  31.5    Yes     Regular      High  Very High      140/90   \n",
      "13   37  Female  24.6     No  Occasional  Moderate     Normal      120/80   \n",
      "14   28    Male  26.9     No     Regular       Low     Normal      125/80   \n",
      "15   35  Female  22.3     No       Never       Low     Normal      115/75   \n",
      "16   49    Male  28.7    Yes     Regular      High  Very High      135/85   \n",
      "17   67  Female  26.8     No  Occasional  Moderate       High      140/90   \n",
      "18   41    Male  24.9     No  Occasional  Moderate     Normal      125/80   \n",
      "19   31  Female  29.2    Yes     Regular       Low       High      130/85   \n",
      "20   42    Male  23.5     No       Never  Moderate     Normal      120/80   \n",
      "21   29  Female  27.9    Yes  Occasional      High  Very High      130/90   \n",
      "22   54    Male  31.2    Yes     Regular       Low  Very High      145/95   \n",
      "23   38  Female  25.8     No  Occasional       Low       High      125/80   \n",
      "24   44    Male  28.3    Yes     Regular  Moderate       High      135/85   \n",
      "25   44    Male  24.5     No       Never       Low     Normal      120/70   \n",
      "26   29  Female  26.1    Yes  Occasional  Moderate       High      130/80   \n",
      "27   57    Male  29.8    Yes     Regular      High  Very High      150/90   \n",
      "28   34  Female  22.9     No  Occasional       Low     Normal      115/75   \n",
      "29   43    Male  30.2    Yes     Regular       Low       High      135/85   \n",
      "30   43    Male  25.1    Yes     Regular       Low       High      140/90   \n",
      "31   28  Female  22.5     No  Occasional  Moderate     Normal      115/75   \n",
      "32   54    Male  30.2    Yes     Regular      High  Very High      150/95   \n",
      "33   37  Female  23.4     No       Never  Moderate     Normal      120/80   \n",
      "34   59    Male  29.1     No  Occasional  Moderate       High      135/85   \n",
      "\n",
      "    systolic_bp  diastolic_bp  \n",
      "0            92            71  \n",
      "1           110            60  \n",
      "2            88            84  \n",
      "3           105            63  \n",
      "4            95            80  \n",
      "5           110            67  \n",
      "6           120            56  \n",
      "7            95            75  \n",
      "8           100            72  \n",
      "9            82            76  \n",
      "10          100            68  \n",
      "11           95            85  \n",
      "12          110            70  \n",
      "13           80            80  \n",
      "14           90            75  \n",
      "15           85            78  \n",
      "16           92            71  \n",
      "17          110            60  \n",
      "18           88            84  \n",
      "19          105            63  \n",
      "20           95            80  \n",
      "21          110            67  \n",
      "22          120            56  \n",
      "23           95            75  \n",
      "24          100            72  \n",
      "25           82            76  \n",
      "26          100            68  \n",
      "27          110            55  \n",
      "28           90            80  \n",
      "29           95            62  \n",
      "30          105            69  \n",
      "31           80            85  \n",
      "32          115            63  \n",
      "33           85            92  \n",
      "34           95            74  \n"
     ]
    }
   ],
   "source": [
    "print(data)"
   ]
  },
  {
   "cell_type": "code",
   "execution_count": 48,
   "metadata": {},
   "outputs": [
    {
     "data": {
      "text/plain": [
       "42.51428571428571"
      ]
     },
     "execution_count": 48,
     "metadata": {},
     "output_type": "execute_result"
    }
   ],
   "source": [
    "#No1\n",
    "\n",
    "np.mean(data.age)\n"
   ]
  },
  {
   "cell_type": "code",
   "execution_count": 57,
   "metadata": {},
   "outputs": [
    {
     "data": {
      "image/png": "[encoded data removed]",
      "text/plain": [
       "<Figure size 432x288 with 1 Axes>"
      ]
     },
     "metadata": {
      "needs_background": "light"
     },
     "output_type": "display_data"
    }
   ],
   "source": [
    "#No2\n",
    "plt.title('Distribution of BMI')\n",
    "plt.hist(data['bmi'], rwidth= 0.5)\n",
    "plt.show()\n"
   ]
  },
  {
   "cell_type": "code",
   "execution_count": 67,
   "metadata": {},
   "outputs": [],
   "source": [
    "df=pd.DataFrame(data)"
   ]
  },
  {
   "cell_type": "code",
   "execution_count": 70,
   "metadata": {},
   "outputs": [
    {
     "name": "stdout",
     "output_type": "stream",
     "text": [
      "17\n"
     ]
    }
   ],
   "source": [
    "#No3\n",
    "\n",
    "smokers = len(df[df['smoker'] == 'Yes'])\n",
    "print(smokers)"
   ]
  },
  {
   "cell_type": "code",
   "execution_count": 74,
   "metadata": {},
   "outputs": [
    {
     "data": {
      "text/plain": [
       "Text(0.5, 1.0, 'Relationship between BMI and Cholesterol')"
      ]
     },
     "execution_count": 74,
     "metadata": {},
     "output_type": "execute_result"
    },
    {
     "data": {
      "image/png": "[encoded data removed]",
      "text/plain": [
       "<Figure size 432x288 with 1 Axes>"
      ]
     },
     "metadata": {
      "needs_background": "light"
     },
     "output_type": "display_data"
    }
   ],
   "source": [
    "#No4\n",
    "bmi =df.bmi\n",
    "cholesterol = df.cholesterol\n",
    "plt.scatter(bmi, cholesterol)\n",
    "plt.title('Relationship between BMI and Cholesterol')"
   ]
  },
  {
   "cell_type": "code",
   "execution_count": null,
   "metadata": {},
   "outputs": [],
   "source": []
  },
  {
   "cell_type": "code",
   "execution_count": null,
   "metadata": {},
   "outputs": [],
   "source": []
  }
 ],
 "metadata": {
  "kernelspec": {
   "display_name": "Python 3 (ipykernel)",
   "language": "python",
   "name": "python3"
  },
  "language_info": {
   "codemirror_mode": {
    "name": "ipython",
    "version": 3
   },
   "file_extension": ".py",
   "mimetype": "text/x-python",
   "name": "python",
   "nbconvert_exporter": "python",
   "pygments_lexer": "ipython3",
   "version": "3.10.9"
  }
 },
 "nbformat": 4,
 "nbformat_minor": 4
}
